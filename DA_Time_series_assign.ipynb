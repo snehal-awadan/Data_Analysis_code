{
 "cells": [
  {
   "cell_type": "code",
   "execution_count": null,
   "id": "c8c4f0d3",
   "metadata": {},
   "outputs": [],
   "source": [
    "\n",
    "'''\n",
    "\n",
    "\n",
    "\n",
    "\n",
    "5. Write a Pandas program to create a time-series with two index labels and\n",
    "random values. Also print the type of the index.\n",
    "6. Write a Pandas program to create a time-series from a given list of dates as\n",
    "strings.\n",
    "7. Write a Pandas program to create a time series object that has time indexed\n",
    "data. Also select the dates of same year and select the dates between certain\n",
    "dates.\n",
    "8. Write a Pandas program to create a date range using a startpoint date and a\n",
    "number of periods.\n",
    "9. Write a Pandas program to create a whole month of dates in daily frequencies.\n",
    "Also find the maximum, minimum timestamp and indexs.\n",
    "10. Write a Pandas program to create a time series using three months\n",
    "frequency.\n",
    "11. Write a Pandas program to create a sequence of durations increasing by an\n",
    "hour.\n",
    "12. Write a Pandas program to convert year and day of year into a single\n",
    "datetime column of a dataframe.\n",
    "13. Write a Pandas program to create a series of Timestamps from a DataFrame\n",
    "of integer or string columns. Also create a series of Timestamps using specified\n",
    "\n",
    "columns.\n",
    "14. Write a Pandas program to check if a day is a business day (weekday) or not.\n",
    "15. Write a Pandas program to get a time series with the last working days of\n",
    "each month of a specific year.\n",
    "16. Write a Pandas program to create a time series combining hour and minute.\n",
    "17. Write a Pandas program to convert unix/epoch time to a regular time stamp\n",
    "in UTC. Also convert the said timestamp in to a given time zone.\n",
    "18. Write a Pandas program to create a time series object with a time zone.\n",
    "19. Write a Pandas program to remove the time zone information from a Time\n",
    "series data.\n",
    "20. Write a Pandas program to subtract two timestamps of same time zone or\n",
    "different time zone.\n",
    "21. Write a Pandas program to calculate all Thursdays between two given days.\n",
    "22. Write a Pandas program to find the all the business quarterly begin and end\n",
    "dates of a specified year.\n",
    "23. Write a Pandas program to generate sequences of fixed-frequency dates and\n",
    "time spans intervals.\n",
    "24. Write a Pandas program to generate time series combining day and intraday\n",
    "offsets intervals.\n",
    "25. Write a Pandas program to extract the day name from a specified date. Add 2\n",
    "days and 1 business day with the specified date.\n",
    "26. Write a Pandas program to convert integer or float epoch times to Timestamp\n",
    "and DatetimeIndex.\n",
    "27. Write a Pandas program to calculate one, two, three business day(s) from a\n",
    "specified date. Also find the next business month end from a specific date.\n",
    "28. Write a Pandas program to create a period index represent all monthly\n",
    "boundaries of a given year. Also print start and end time for each period object in\n",
    "the said index.\n",
    "29. Write a Pandas program create a series with a PeriodIndex which represents\n",
    "all the calendar month periods in 2029 and 2031. Also print the values for all\n",
    "periods in 2030.\n",
    "Note: PeriodIndex is an immutable ndarray holding ordinal values indicating\n",
    "regular periods in time such as particular years, quarters, months, etc.\n",
    "30. Write a Pandas program to generate holidays between two dates using the\n",
    "US federal holiday calendar.\n",
    "\n",
    "31. Write a Pandas program to create a monthly time period and display the list\n",
    "of names in the current local scope.\n",
    "32. Write a Pandas program to create a yearly time period from a specified year\n",
    "and display the properties of this period.\n",
    "'''"
   ]
  },
  {
   "cell_type": "code",
   "execution_count": 18,
   "id": "d2292a0b",
   "metadata": {},
   "outputs": [],
   "source": [
    "import numpy as np\n",
    "import matplotlib.pyplot as plt\n",
    "import pandas as pd\n",
    "import datetime\n",
    "from datetime import datetime\n"
   ]
  },
  {
   "cell_type": "code",
   "execution_count": 16,
   "id": "ab13d914",
   "metadata": {},
   "outputs": [
    {
     "name": "stdout",
     "output_type": "stream",
     "text": [
      "2012-01-15 00:00:00\n",
      "2011-01-15 21:10:00\n",
      "2024-04-24 21:58:15.273472\n",
      "2011-01-15\n",
      "2024-04-24\n",
      "21:58:15.273472\n",
      "21:58:15.273472\n"
     ]
    }
   ],
   "source": [
    "# a) Datetime object for Jan 15 2012.\n",
    "print(datetime(2012,1,15))\n",
    "\n",
    "\n",
    "# b) Specific date and time of 9:20 pm.\n",
    "print(datetime(2011,1,15,21,10))\n",
    "\n",
    "# c) Local date and time.\n",
    "print(datetime.now())\n",
    "\n",
    "# d) A date without time.\n",
    "print(datetime.date(datetime(2011,1,15)))\n",
    "\n",
    "# e) Current date.\n",
    "print(datetime.date(datetime.now()))\n",
    "\n",
    "# f) Time from a datetime.\n",
    "print(datetime.time(datetime.now()))\n",
    "\n",
    "# g) Current local time.\n",
    "print(datetime.now().time())"
   ]
  },
  {
   "cell_type": "code",
   "execution_count": 28,
   "id": "016fddd3",
   "metadata": {},
   "outputs": [
    {
     "name": "stdout",
     "output_type": "stream",
     "text": [
      "2000-12-25 00:00:00\n",
      "2000-12-25 03:00:00\n",
      "2024-04-24 21:23:00\n",
      "2024-04-24 22:03:53.519761\n"
     ]
    }
   ],
   "source": [
    "# 2) Write a Pandas program to create\n",
    "\n",
    "# a) a specific date using timestamp.\n",
    "\n",
    "print(pd.Timestamp(\"2000-12-25\"))\n",
    "\n",
    "# b) date and time using timestamp.\n",
    "print(pd.Timestamp(\"2000-12-25 3:00\"))\n",
    "\n",
    "# c)time adds in the current local date using timestamp.\n",
    "print(pd.Timestamp(\"21:23\"))\n",
    "\n",
    "# d) current date and time using timestamp.\n",
    "print(pd.Timestamp(\"now\"))\n",
    "\n"
   ]
  },
  {
   "cell_type": "code",
   "execution_count": 33,
   "id": "eaf1230e",
   "metadata": {},
   "outputs": [
    {
     "name": "stdout",
     "output_type": "stream",
     "text": [
      "date from a given year: \n",
      "2020-12-25 00:00:00\n",
      "another date from a given string formats: \n",
      "2024-01-01 00:00:00\n"
     ]
    }
   ],
   "source": [
    "# 3. Write a Pandas program to create a date from a given year, month, day and another date from a given string formats.\n",
    "\n",
    "print(\"date from a given year: \")\n",
    "print(datetime(year = 2020, month = 12, day=25))\n",
    "\n",
    "from dateutil import parser\n",
    "\n",
    "print(\"another date from a given string formats: \")\n",
    "print(parser.parse(\"1 st of January, 2024\"))\n",
    "\n"
   ]
  },
  {
   "cell_type": "code",
   "execution_count": null,
   "id": "043c2937",
   "metadata": {},
   "outputs": [],
   "source": [
    "# 4.print the day after and before a specified date. Also print the days between two given dates.\n",
    "\n"
   ]
  }
 ],
 "metadata": {
  "kernelspec": {
   "display_name": "Python 3 (ipykernel)",
   "language": "python",
   "name": "python3"
  },
  "language_info": {
   "codemirror_mode": {
    "name": "ipython",
    "version": 3
   },
   "file_extension": ".py",
   "mimetype": "text/x-python",
   "name": "python",
   "nbconvert_exporter": "python",
   "pygments_lexer": "ipython3",
   "version": "3.11.7"
  }
 },
 "nbformat": 4,
 "nbformat_minor": 5
}
