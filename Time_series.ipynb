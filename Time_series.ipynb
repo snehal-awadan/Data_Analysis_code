{
 "cells": [
  {
   "cell_type": "code",
   "execution_count": 28,
   "id": "e93f0d15",
   "metadata": {},
   "outputs": [],
   "source": [
    "import numpy as np\n",
    "import pandas as pd\n",
    "import matplotlib.pyplot as plt\n",
    "import seaborn as sns\n",
    "from datetime import datetime\n",
    "from dateutil import parser"
   ]
  },
  {
   "cell_type": "code",
   "execution_count": 13,
   "id": "bc6709d8",
   "metadata": {},
   "outputs": [
    {
     "name": "stdout",
     "output_type": "stream",
     "text": [
      "2012-02-12 00:00:00\n"
     ]
    }
   ],
   "source": [
    "print(datetime(2012,2,12))"
   ]
  },
  {
   "cell_type": "code",
   "execution_count": 15,
   "id": "65c2655b",
   "metadata": {},
   "outputs": [
    {
     "name": "stdout",
     "output_type": "stream",
     "text": [
      "2012-01-01 21:20:00\n"
     ]
    }
   ],
   "source": [
    "print(datetime(2012,1,1,21,20))"
   ]
  },
  {
   "cell_type": "code",
   "execution_count": 17,
   "id": "30458a1f",
   "metadata": {},
   "outputs": [
    {
     "name": "stdout",
     "output_type": "stream",
     "text": [
      "2024-04-28 14:30:38.772274\n"
     ]
    }
   ],
   "source": [
    "print(datetime.now())"
   ]
  },
  {
   "cell_type": "code",
   "execution_count": 23,
   "id": "6bd721aa",
   "metadata": {},
   "outputs": [
    {
     "name": "stdout",
     "output_type": "stream",
     "text": [
      "2012-12-15\n"
     ]
    }
   ],
   "source": [
    "print(datetime.date(datetime(2012,12,15,21,48)))"
   ]
  },
  {
   "cell_type": "code",
   "execution_count": 27,
   "id": "20d2de2b",
   "metadata": {},
   "outputs": [
    {
     "name": "stdout",
     "output_type": "stream",
     "text": [
      "2024-04-28\n"
     ]
    }
   ],
   "source": [
    "print(datetime.date(datetime.now()))"
   ]
  },
  {
   "cell_type": "code",
   "execution_count": 31,
   "id": "80946b05",
   "metadata": {},
   "outputs": [
    {
     "name": "stdout",
     "output_type": "stream",
     "text": [
      "2012-12-25\n"
     ]
    }
   ],
   "source": [
    "print(datetime.date(datetime(year= 2012, month = 12, day = 25)))"
   ]
  },
  {
   "cell_type": "code",
   "execution_count": 37,
   "id": "973befb5",
   "metadata": {},
   "outputs": [
    {
     "name": "stdout",
     "output_type": "stream",
     "text": [
      "2024-04-29 00:00:00\n",
      "2024-04-27 00:00:00\n"
     ]
    }
   ],
   "source": [
    "today = datetime(2024,4,28)\n",
    "tomarrow = today + pd.Timedelta(days = 1)\n",
    "print(tomarrow)\n",
    "yesterday =  today - pd.Timedelta(days = 1)\n",
    "print(yesterday)"
   ]
  },
  {
   "cell_type": "code",
   "execution_count": 40,
   "id": "d4f3e2b8",
   "metadata": {},
   "outputs": [
    {
     "name": "stdout",
     "output_type": "stream",
     "text": [
      "DatetimeIndex(['2020-01-01', '2020-01-02', '2020-01-03', '2020-01-04',\n",
      "               '2020-01-05', '2020-01-06', '2020-01-07', '2020-01-08',\n",
      "               '2020-01-09', '2020-01-10', '2020-01-11', '2020-01-12',\n",
      "               '2020-01-13', '2020-01-14', '2020-01-15', '2020-01-16',\n",
      "               '2020-01-17', '2020-01-18', '2020-01-19', '2020-01-20',\n",
      "               '2020-01-21', '2020-01-22', '2020-01-23', '2020-01-24',\n",
      "               '2020-01-25', '2020-01-26', '2020-01-27', '2020-01-28',\n",
      "               '2020-01-29', '2020-01-30', '2020-01-31', '2020-02-01',\n",
      "               '2020-02-02', '2020-02-03', '2020-02-04', '2020-02-05'],\n",
      "              dtype='datetime64[ns]', freq='D')\n"
     ]
    }
   ],
   "source": [
    "print(pd.date_range(\"1/1/2020\", periods = 36))"
   ]
  },
  {
   "cell_type": "code",
   "execution_count": null,
   "id": "c2ffbd84",
   "metadata": {},
   "outputs": [],
   "source": []
  }
 ],
 "metadata": {
  "kernelspec": {
   "display_name": "Python 3 (ipykernel)",
   "language": "python",
   "name": "python3"
  },
  "language_info": {
   "codemirror_mode": {
    "name": "ipython",
    "version": 3
   },
   "file_extension": ".py",
   "mimetype": "text/x-python",
   "name": "python",
   "nbconvert_exporter": "python",
   "pygments_lexer": "ipython3",
   "version": "3.11.7"
  }
 },
 "nbformat": 4,
 "nbformat_minor": 5
}
