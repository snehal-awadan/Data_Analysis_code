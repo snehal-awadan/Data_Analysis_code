{
 "cells": [
  {
   "cell_type": "code",
   "execution_count": 1,
   "id": "2e0a53b3-2cdf-4106-a1b8-30cb359506d4",
   "metadata": {},
   "outputs": [],
   "source": [
    "import numpy as np\n"
   ]
  },
  {
   "cell_type": "code",
   "execution_count": 3,
   "id": "307444b6-01f1-4eaf-a0fd-7285f7f34c53",
   "metadata": {},
   "outputs": [
    {
     "name": "stdout",
     "output_type": "stream",
     "text": [
      "[12.  12.   7.8 56. ]\n"
     ]
    }
   ],
   "source": [
    "a = np.array([12,12,7.8,56])\n",
    "print(a)"
   ]
  },
  {
   "cell_type": "code",
   "execution_count": 4,
   "id": "dc83e08a-45e1-419f-8d6e-1e3ecdc2b3d6",
   "metadata": {},
   "outputs": [
    {
     "name": "stdout",
     "output_type": "stream",
     "text": [
      "<class 'numpy.ndarray'>\n"
     ]
    }
   ],
   "source": [
    "print(type(a))"
   ]
  },
  {
   "cell_type": "code",
   "execution_count": 5,
   "id": "112d7b13-bc6b-44c9-a608-94c91064673a",
   "metadata": {},
   "outputs": [
    {
     "name": "stdout",
     "output_type": "stream",
     "text": [
      "float64\n"
     ]
    }
   ],
   "source": [
    "print(a.dtype)"
   ]
  },
  {
   "cell_type": "code",
   "execution_count": 6,
   "id": "309976bd-0aa3-49dc-8f06-41396edacb8f",
   "metadata": {},
   "outputs": [
    {
     "name": "stdout",
     "output_type": "stream",
     "text": [
      "1\n"
     ]
    }
   ],
   "source": [
    "print(a.ndim)"
   ]
  },
  {
   "cell_type": "code",
   "execution_count": 8,
   "id": "9b477912-1b7e-4b52-9946-b98cc16427e0",
   "metadata": {},
   "outputs": [
    {
     "name": "stdout",
     "output_type": "stream",
     "text": [
      "(4,)\n"
     ]
    }
   ],
   "source": [
    "print(a.shape)\n"
   ]
  },
  {
   "cell_type": "code",
   "execution_count": 12,
   "id": "16ad4937-aa2f-47f9-87c5-3962ad60aba1",
   "metadata": {},
   "outputs": [
    {
     "name": "stdout",
     "output_type": "stream",
     "text": [
      "[[52 45 96]\n",
      " [89 87 86]]\n"
     ]
    }
   ],
   "source": [
    "b = np.array([[52,45,96],[89,87,86]])\n",
    "print(b)"
   ]
  },
  {
   "cell_type": "code",
   "execution_count": 14,
   "id": "e4c9ea19-590c-42e7-8487-b7162de19e16",
   "metadata": {},
   "outputs": [
    {
     "name": "stdout",
     "output_type": "stream",
     "text": [
      "[[25 70 62]\n",
      " [43 15 63]]\n"
     ]
    }
   ],
   "source": [
    "c = np.array([[25,70,62],[43,15,63]])\n",
    "print(c)"
   ]
  },
  {
   "cell_type": "code",
   "execution_count": 15,
   "id": "297556fd-3d1d-476e-8e2c-81a303f1b604",
   "metadata": {},
   "outputs": [
    {
     "name": "stdout",
     "output_type": "stream",
     "text": [
      "[[ 77 115 158]\n",
      " [132 102 149]]\n"
     ]
    }
   ],
   "source": [
    "print(c+b)"
   ]
  },
  {
   "cell_type": "code",
   "execution_count": 16,
   "id": "66417e23-2ade-4822-aa10-588734d1819f",
   "metadata": {},
   "outputs": [
    {
     "name": "stdout",
     "output_type": "stream",
     "text": [
      "[[1300 3150 5952]\n",
      " [3827 1305 5418]]\n"
     ]
    }
   ],
   "source": [
    "print(b*c)"
   ]
  },
  {
   "cell_type": "code",
   "execution_count": 18,
   "id": "a538703d-de0e-4c33-a352-104272530b3a",
   "metadata": {},
   "outputs": [
    {
     "name": "stdout",
     "output_type": "stream",
     "text": [
      "75.83333333333333\n"
     ]
    }
   ],
   "source": [
    "print(np.mean(b))"
   ]
  },
  {
   "cell_type": "code",
   "execution_count": 19,
   "id": "3434ad76-b372-4e11-b170-7ae5bbec59cd",
   "metadata": {},
   "outputs": [
    {
     "name": "stdout",
     "output_type": "stream",
     "text": [
      "46.333333333333336\n"
     ]
    }
   ],
   "source": [
    "print(np.mean(c))"
   ]
  },
  {
   "cell_type": "code",
   "execution_count": 20,
   "id": "ed067323-a8bf-4f36-b8b1-919614061aeb",
   "metadata": {},
   "outputs": [],
   "source": [
    "x=np.array([10,20,30])\n",
    "y=np.array([11,12,13])\n",
    "z=np.array([21,22,23])"
   ]
  },
  {
   "cell_type": "code",
   "execution_count": 22,
   "id": "81d49dcf-5886-4038-b12b-1ad986dc8c42",
   "metadata": {},
   "outputs": [
    {
     "name": "stdout",
     "output_type": "stream",
     "text": [
      "[[10 20 30]\n",
      " [11 12 13]\n",
      " [21 22 23]]\n"
     ]
    }
   ],
   "source": [
    "print(np.vstack((x,y,z)))"
   ]
  },
  {
   "cell_type": "code",
   "execution_count": 25,
   "id": "ad7c65df-5623-45c2-aafb-cb2695fd9d09",
   "metadata": {},
   "outputs": [
    {
     "name": "stdout",
     "output_type": "stream",
     "text": [
      "[10 20 30 11 12 13 21 22 23]\n"
     ]
    }
   ],
   "source": [
    "print(np.hstack((x,y,z)))"
   ]
  },
  {
   "cell_type": "code",
   "execution_count": 26,
   "id": "a8dcde15-fe75-44a8-9952-01ccfdd9c906",
   "metadata": {},
   "outputs": [
    {
     "name": "stdout",
     "output_type": "stream",
     "text": [
      "[[5418 1305 3827]\n",
      " [5952 3150 1300]]\n"
     ]
    }
   ],
   "source": [
    "print(np.flip(b*c))"
   ]
  },
  {
   "cell_type": "code",
   "execution_count": null,
   "id": "17c092db-7263-4d77-a55c-1e8ffc7a18da",
   "metadata": {},
   "outputs": [],
   "source": []
  }
 ],
 "metadata": {
  "kernelspec": {
   "display_name": "Python 3 (ipykernel)",
   "language": "python",
   "name": "python3"
  },
  "language_info": {
   "codemirror_mode": {
    "name": "ipython",
    "version": 3
   },
   "file_extension": ".py",
   "mimetype": "text/x-python",
   "name": "python",
   "nbconvert_exporter": "python",
   "pygments_lexer": "ipython3",
   "version": "3.11.7"
  }
 },
 "nbformat": 4,
 "nbformat_minor": 5
}
