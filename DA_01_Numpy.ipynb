{
 "cells": [
  {
   "cell_type": "code",
   "execution_count": 2,
   "id": "b5181419-fb7f-4b66-8fda-5392cb9e83f4",
   "metadata": {},
   "outputs": [],
   "source": [
    "import numpy as np"
   ]
  },
  {
   "cell_type": "code",
   "execution_count": 3,
   "id": "34647143-8233-4a33-824c-2011d048dc40",
   "metadata": {},
   "outputs": [
    {
     "name": "stdout",
     "output_type": "stream",
     "text": [
      "1.26.4\n",
      "Build Dependencies:\n",
      "  blas:\n",
      "    detection method: pkgconfig\n",
      "    found: true\n",
      "    include directory: C:/Users/Rohit/anaconda3/Library/include\n",
      "    lib directory: C:/Users/Rohit/anaconda3/Library/lib\n",
      "    name: mkl-sdl\n",
      "    openblas configuration: unknown\n",
      "    pc file directory: C:\\b\\abs_c1ywpu18ar\\croot\\numpy_and_numpy_base_1708638681471\\_h_env\\Library\\lib\\pkgconfig\n",
      "    version: '2023.1'\n",
      "  lapack:\n",
      "    detection method: internal\n",
      "    found: true\n",
      "    include directory: unknown\n",
      "    lib directory: unknown\n",
      "    name: dep1868282989520\n",
      "    openblas configuration: unknown\n",
      "    pc file directory: unknown\n",
      "    version: 1.26.4\n",
      "Compilers:\n",
      "  c:\n",
      "    commands: cl.exe\n",
      "    linker: link\n",
      "    name: msvc\n",
      "    version: 19.29.30154\n",
      "  c++:\n",
      "    commands: cl.exe\n",
      "    linker: link\n",
      "    name: msvc\n",
      "    version: 19.29.30154\n",
      "  cython:\n",
      "    commands: cython\n",
      "    linker: cython\n",
      "    name: cython\n",
      "    version: 3.0.8\n",
      "Machine Information:\n",
      "  build:\n",
      "    cpu: x86_64\n",
      "    endian: little\n",
      "    family: x86_64\n",
      "    system: windows\n",
      "  host:\n",
      "    cpu: x86_64\n",
      "    endian: little\n",
      "    family: x86_64\n",
      "    system: windows\n",
      "Python Information:\n",
      "  path: C:\\b\\abs_c1ywpu18ar\\croot\\numpy_and_numpy_base_1708638681471\\_h_env\\python.exe\n",
      "  version: '3.11'\n",
      "SIMD Extensions:\n",
      "  baseline:\n",
      "  - SSE\n",
      "  - SSE2\n",
      "  - SSE3\n",
      "  found:\n",
      "  - SSSE3\n",
      "  - SSE41\n",
      "  - POPCNT\n",
      "  - SSE42\n",
      "  - AVX\n",
      "  - F16C\n",
      "  - FMA3\n",
      "  - AVX2\n",
      "  - AVX512F\n",
      "  - AVX512CD\n",
      "  - AVX512_SKX\n",
      "  - AVX512_CLX\n",
      "  - AVX512_CNL\n",
      "  - AVX512_ICL\n",
      "\n",
      "None\n"
     ]
    }
   ],
   "source": [
    "# Write a NumPy program to get the numpy version and show numpy build configuration.\n",
    "print(np.__version__)\n",
    "print(np.show_config())"
   ]
  },
  {
   "cell_type": "code",
   "execution_count": 4,
   "id": "c6dfe557-6cd6-4b49-a7dc-bd9433594cad",
   "metadata": {},
   "outputs": [
    {
     "name": "stdout",
     "output_type": "stream",
     "text": [
      "add(x1, x2, /, out=None, *, where=True, casting='same_kind', order='K', dtype=None, subok=True[, signature, extobj])\n",
      "\n",
      "Add arguments element-wise.\n",
      "\n",
      "Parameters\n",
      "----------\n",
      "x1, x2 : array_like\n",
      "    The arrays to be added.\n",
      "    If ``x1.shape != x2.shape``, they must be broadcastable to a common\n",
      "    shape (which becomes the shape of the output).\n",
      "out : ndarray, None, or tuple of ndarray and None, optional\n",
      "    A location into which the result is stored. If provided, it must have\n",
      "    a shape that the inputs broadcast to. If not provided or None,\n",
      "    a freshly-allocated array is returned. A tuple (possible only as a\n",
      "    keyword argument) must have length equal to the number of outputs.\n",
      "where : array_like, optional\n",
      "    This condition is broadcast over the input. At locations where the\n",
      "    condition is True, the `out` array will be set to the ufunc result.\n",
      "    Elsewhere, the `out` array will retain its original value.\n",
      "    Note that if an uninitialized `out` array is created via the default\n",
      "    ``out=None``, locations within it where the condition is False will\n",
      "    remain uninitialized.\n",
      "**kwargs\n",
      "    For other keyword-only arguments, see the\n",
      "    :ref:`ufunc docs <ufuncs.kwargs>`.\n",
      "\n",
      "Returns\n",
      "-------\n",
      "add : ndarray or scalar\n",
      "    The sum of `x1` and `x2`, element-wise.\n",
      "    This is a scalar if both `x1` and `x2` are scalars.\n",
      "\n",
      "Notes\n",
      "-----\n",
      "Equivalent to `x1` + `x2` in terms of array broadcasting.\n",
      "\n",
      "Examples\n",
      "--------\n",
      ">>> np.add(1.0, 4.0)\n",
      "5.0\n",
      ">>> x1 = np.arange(9.0).reshape((3, 3))\n",
      ">>> x2 = np.arange(3.0)\n",
      ">>> np.add(x1, x2)\n",
      "array([[  0.,   2.,   4.],\n",
      "       [  3.,   5.,   7.],\n",
      "       [  6.,   8.,  10.]])\n",
      "\n",
      "The ``+`` operator can be used as a shorthand for ``np.add`` on ndarrays.\n",
      "\n",
      ">>> x1 = np.arange(9.0).reshape((3, 3))\n",
      ">>> x2 = np.arange(3.0)\n",
      ">>> x1 + x2\n",
      "array([[ 0.,  2.,  4.],\n",
      "       [ 3.,  5.,  7.],\n",
      "       [ 6.,  8., 10.]])\n",
      "None\n"
     ]
    }
   ],
   "source": [
    "# Write a NumPy program to get help on the add function\n",
    "print(np.info(np.add))"
   ]
  },
  {
   "cell_type": "code",
   "execution_count": 5,
   "id": "7577d916-368d-49c0-90bd-a33438c6eae4",
   "metadata": {},
   "outputs": [
    {
     "name": "stdout",
     "output_type": "stream",
     "text": [
      "True\n"
     ]
    }
   ],
   "source": [
    "# Write a NumPy program to test whether none of the elements of a given array is zero.\n",
    "a = np.array([1,23,4,5,7,8])\n",
    "print(np.all(a))"
   ]
  },
  {
   "cell_type": "code",
   "execution_count": 6,
   "id": "e1ca476f-f47d-4ba7-9bd8-62fbde6cc2e2",
   "metadata": {},
   "outputs": [
    {
     "name": "stdout",
     "output_type": "stream",
     "text": [
      "[ True  True  True  True False False]\n"
     ]
    }
   ],
   "source": [
    "# Write a NumPy program to test a given array element-wise for finiteness (not infinity or not a Number).\n",
    "a = np.array([1,2,5,4,np.inf,np.nan])\n",
    "print(np.isfinite(a))"
   ]
  },
  {
   "cell_type": "code",
   "execution_count": 7,
   "id": "7eb369a2-c402-41db-9bd1-3b70732504be",
   "metadata": {},
   "outputs": [
    {
     "name": "stdout",
     "output_type": "stream",
     "text": [
      "[False False False False  True False]\n"
     ]
    }
   ],
   "source": [
    "# Write a NumPy program to test element-wise for positive or negative infinity.\n",
    "print(np.isinf(a))"
   ]
  },
  {
   "cell_type": "code",
   "execution_count": 8,
   "id": "b0f3077c-680f-4b02-8695-a51291ff47d3",
   "metadata": {},
   "outputs": [
    {
     "name": "stdout",
     "output_type": "stream",
     "text": [
      "[False False False False False  True]\n"
     ]
    }
   ],
   "source": [
    "# Write a NumPy program to test element-wise for NaN of a given array.\n",
    "print(np.isnan(a))"
   ]
  },
  {
   "cell_type": "code",
   "execution_count": 9,
   "id": "417d6138-f78c-4755-8162-721f9e56bd15",
   "metadata": {},
   "outputs": [
    {
     "name": "stdout",
     "output_type": "stream",
     "text": [
      "[ True  True False  True False]\n",
      "[False False  True False  True]\n",
      "True\n"
     ]
    }
   ],
   "source": [
    "# Write a NumPy program to test element-wise for complex number, real number of a given array. Also test whether a given number is a scalar type or not.\n",
    "b = np.array([2+2j,1+1j,8,5+6j,8.5])\n",
    "print(np.iscomplex(b))\n",
    "print(np.isreal(b))\n",
    "print(np.isscalar(8.5))"
   ]
  },
  {
   "cell_type": "code",
   "execution_count": 10,
   "id": "bdd4399f-cf1d-4282-92af-05eda80d69a7",
   "metadata": {},
   "outputs": [
    {
     "name": "stdout",
     "output_type": "stream",
     "text": [
      "Equal [False False False]\n",
      "greater: [False False False]\n",
      "greater_equal [False False False]\n",
      "less [ True  True  True]\n",
      "less_equal [ True  True  True]\n"
     ]
    }
   ],
   "source": [
    "# Write a NumPy program to create an element-wise comparison (greater, greater_equal, less and less_equal) of two given arrays.\n",
    "a = np.array([1,2,3])\n",
    "b = np.array([3,4,5])\n",
    "print(\"Equal\",a == b)\n",
    "print(\"greater:\",a > b)\n",
    "print(\"greater_equal\",a >= b)\n",
    "print(\"less\",a < b)\n",
    "print(\"less_equal\",a <= b)"
   ]
  },
  {
   "cell_type": "code",
   "execution_count": 11,
   "id": "0393d06d-fcb5-4b37-9cc9-a4b58699dfd0",
   "metadata": {},
   "outputs": [
    {
     "name": "stdout",
     "output_type": "stream",
     "text": [
      "16\n"
     ]
    }
   ],
   "source": [
    "# Write a NumPy program to create an array with the values 1, 7, 13, 105 and determine the size of the memory occupied by the array.\n",
    "a= np.array([1, 7, 13, 105])\n",
    "print((a.size * a.itemsize))\n"
   ]
  },
  {
   "cell_type": "code",
   "execution_count": 12,
   "id": "4165c2eb-e74e-4eae-8f33-1b045a25996c",
   "metadata": {},
   "outputs": [
    {
     "name": "stdout",
     "output_type": "stream",
     "text": [
      "[0. 0. 0. 0. 0. 0. 0. 0. 0. 0.]\n",
      "[1. 1. 1. 1. 1. 1. 1. 1. 1. 1.]\n",
      "[5. 5. 5. 5. 5. 5. 5. 5. 5. 5.]\n"
     ]
    }
   ],
   "source": [
    "# Write a NumPy program to create an array of 10 zeros,10 ones, 10 fives.\n",
    "a = np.zeros(10)\n",
    "print(a)\n",
    "b = np.ones(10)\n",
    "print(b)\n",
    "c = np.ones(10) *5\n",
    "print(c)"
   ]
  },
  {
   "cell_type": "code",
   "execution_count": 13,
   "id": "42260235-f92b-4a81-97c7-77b1d71571c9",
   "metadata": {},
   "outputs": [
    {
     "name": "stdout",
     "output_type": "stream",
     "text": [
      "[30 31 32 33 34 35 36 37 38 39 40 41 42 43 44 45 46 47 48 49 50 51 52 53\n",
      " 54 55 56 57 58 59 60 61 62 63 64 65 66 67 68 69]\n"
     ]
    }
   ],
   "source": [
    "# Write a NumPy program to create an array of integers from 30 to70.\n",
    "a = np.arange(30,70)\n",
    "print(a)"
   ]
  },
  {
   "cell_type": "code",
   "execution_count": 14,
   "id": "7df972c8-b3e8-400a-a9be-3f6d3bcd920f",
   "metadata": {},
   "outputs": [
    {
     "name": "stdout",
     "output_type": "stream",
     "text": [
      "[30 32 34 36 38 40 42 44 46 48 50 52 54 56 58 60 62 64 66 68]\n"
     ]
    }
   ],
   "source": [
    "# Write a NumPy program to create an array of all the even integers from 30 to 70.\n",
    "a = np.arange(30,70,2)\n",
    "print(a)\n",
    "            "
   ]
  },
  {
   "cell_type": "code",
   "execution_count": 15,
   "id": "59bbbc47-4c58-42e9-975f-30b906f564fe",
   "metadata": {},
   "outputs": [
    {
     "name": "stdout",
     "output_type": "stream",
     "text": [
      "[[1. 0. 0.]\n",
      " [0. 1. 0.]\n",
      " [0. 0. 1.]]\n"
     ]
    }
   ],
   "source": [
    "# Write a NumPy program to create a 3x3 identity matrix.\n",
    "print(np.identity(3))\n"
   ]
  },
  {
   "cell_type": "code",
   "execution_count": 16,
   "id": "a672f2f3-cbe0-44be-9e59-39873e65e603",
   "metadata": {},
   "outputs": [
    {
     "name": "stdout",
     "output_type": "stream",
     "text": [
      "0\n"
     ]
    }
   ],
   "source": [
    "# Write a NumPy program to generate a random number between 0 and 1.\n",
    "print(np.random.randint(0,1))"
   ]
  },
  {
   "cell_type": "code",
   "execution_count": 17,
   "id": "f5f061e6-31b8-4ac0-901e-db34dce93395",
   "metadata": {},
   "outputs": [
    {
     "name": "stdout",
     "output_type": "stream",
     "text": [
      "[ 0.39523276 -0.13709899  0.83466888  0.06792326 -0.31513328  0.40508859\n",
      "  0.87020424 -0.87697976 -0.95754434 -0.83347783  1.1686072   1.69842991\n",
      " -0.3886535   0.13791361  0.24655047]\n"
     ]
    }
   ],
   "source": [
    "# Write a NumPy program to generate an array of 15 random numbers from a standard normal distribution.\n",
    "print(np.random.randn(15))"
   ]
  },
  {
   "cell_type": "code",
   "execution_count": 18,
   "id": "b876bf9b-09e3-4b75-b1cb-a4b7947cb4bf",
   "metadata": {},
   "outputs": [
    {
     "name": "stdout",
     "output_type": "stream",
     "text": [
      "[16 17 18 19 20 21 22 23 24 25 26 27 28 29 30 31 32 33 34 35 36 37 38 39\n",
      " 40 41 42 43 44 45 46 47 48 49 50 51 52 53 54]\n"
     ]
    }
   ],
   "source": [
    "# Write a NumPy program to create a vector with values ranging from 15 to 55 and print all values except the first and last.\n",
    "a = np.arange(15,55)\n",
    "print(a[1:])\n"
   ]
  },
  {
   "cell_type": "code",
   "execution_count": 19,
   "id": "82ca11f2-2b9a-4d4a-b59c-642046f05beb",
   "metadata": {},
   "outputs": [
    {
     "name": "stdout",
     "output_type": "stream",
     "text": [
      "5 10 15 5 20 25 30 54 35 40 45 54 "
     ]
    }
   ],
   "source": [
    "# Write a NumPy program to create a 3X4 array using and iterate over it.\n",
    "arr = np.array(([5,10,15,5],[20,25,30,54],[35,40,45,54]))\n",
    "\n",
    "# iterate it;\n",
    "for i in np.nditer(arr):\n",
    "    print(i,end=\" \")"
   ]
  },
  {
   "cell_type": "code",
   "execution_count": 20,
   "id": "d019f94c-ce1b-4819-829f-92a6d4bcd63c",
   "metadata": {},
   "outputs": [
    {
     "name": "stdout",
     "output_type": "stream",
     "text": [
      "[ 5. 10. 15. 20. 25. 30. 35. 40. 45. 50.]\n"
     ]
    }
   ],
   "source": [
    "# Write a NumPy program to create a vector of length 10 with values evenly distributed between 5 and 50.\n",
    "a = np.linspace(5,50,10)\n",
    "print(a)"
   ]
  },
  {
   "cell_type": "code",
   "execution_count": 21,
   "id": "7e2f81b7-ff9e-49af-b886-b7687716adce",
   "metadata": {},
   "outputs": [
    {
     "name": "stdout",
     "output_type": "stream",
     "text": [
      "[  0   1   2   3   4   5   6   7   8  -9 -10 -11 -12 -13 -14 -15  16  17\n",
      "  18  19]\n"
     ]
    }
   ],
   "source": [
    "# Write a NumPy program to create a vector with values from 0 to 20 and change the sign of the numbers in the range from 9 to 15.\n",
    "a = np.arange(0,20)\n",
    "a[(a>=9) & (a<=15)] *= -1 \n",
    "\n",
    "print(a)"
   ]
  },
  {
   "cell_type": "code",
   "execution_count": 22,
   "id": "8a99763a-27e6-4a73-a022-00f296c00460",
   "metadata": {},
   "outputs": [
    {
     "name": "stdout",
     "output_type": "stream",
     "text": [
      "[7 9 7 9 9]\n"
     ]
    }
   ],
   "source": [
    "# Write a NumPy program to create a vector of length 5 filled with arbitrary integers from 0 to 10.\n",
    "print(np.random.randint(0,10,5))"
   ]
  },
  {
   "cell_type": "code",
   "execution_count": 23,
   "id": "3fbe4310-aaff-47be-be9c-89002d59abfd",
   "metadata": {},
   "outputs": [
    {
     "name": "stdout",
     "output_type": "stream",
     "text": [
      "[ 0 30 25 64  4]\n"
     ]
    }
   ],
   "source": [
    "# Write a NumPy program to multiply the values of two given vectors\n",
    "a = np.array([0,5,5,8,2])\n",
    "b = np.array([0,6,5,8,2])\n",
    "print(a*b)"
   ]
  },
  {
   "cell_type": "code",
   "execution_count": 24,
   "id": "4aa2b133-3bc4-4ceb-abdf-15ca9c47871c",
   "metadata": {},
   "outputs": [
    {
     "name": "stdout",
     "output_type": "stream",
     "text": [
      "[[10 11 12 13]\n",
      " [14 15 16 17]\n",
      " [18 19 20 21]]\n"
     ]
    }
   ],
   "source": [
    "# Write a NumPy program to create a 3x4 matrix filled with values from 10 to 21.\n",
    "print(np.arange(10,22).reshape((3,4)))"
   ]
  },
  {
   "cell_type": "code",
   "execution_count": 25,
   "id": "6a7d8dc2-e828-40b2-bf7b-8d20ea2cccce",
   "metadata": {},
   "outputs": [
    {
     "name": "stdout",
     "output_type": "stream",
     "text": [
      "(5, 4)\n"
     ]
    }
   ],
   "source": [
    "# Write a NumPy program to find the number of rows and columns of a given matrix.\n",
    "arr = np.array([[1,2,3,4],[5,6,7,8],[9,8,7,6],[5,4,3,2],[1,9,8,2]])\n",
    "print(arr.shape)"
   ]
  },
  {
   "cell_type": "code",
   "execution_count": 26,
   "id": "f03bf5c8-da2e-4ef6-a48d-b073f6e53344",
   "metadata": {},
   "outputs": [
    {
     "name": "stdout",
     "output_type": "stream",
     "text": [
      "[[1. 0. 0.]\n",
      " [0. 1. 0.]\n",
      " [0. 0. 1.]]\n"
     ]
    }
   ],
   "source": [
    "# Write a NumPy program to create a 3x3 identity matrix, i.e. diagonal elements are 1, the rest are 0.\n",
    "print(np.identity(3))"
   ]
  },
  {
   "cell_type": "code",
   "execution_count": 27,
   "id": "6e0d5dca-28d8-41e0-91b5-cfb99781f812",
   "metadata": {},
   "outputs": [
    {
     "name": "stdout",
     "output_type": "stream",
     "text": [
      "[[1. 1. 1. 1. 1. 1. 1. 1. 1. 1.]\n",
      " [1. 0. 0. 0. 0. 0. 0. 0. 0. 1.]\n",
      " [1. 0. 0. 0. 0. 0. 0. 0. 0. 1.]\n",
      " [1. 0. 0. 0. 0. 0. 0. 0. 0. 1.]\n",
      " [1. 0. 0. 0. 0. 0. 0. 0. 0. 1.]\n",
      " [1. 0. 0. 0. 0. 0. 0. 0. 0. 1.]\n",
      " [1. 0. 0. 0. 0. 0. 0. 0. 0. 1.]\n",
      " [1. 0. 0. 0. 0. 0. 0. 0. 0. 1.]\n",
      " [1. 0. 0. 0. 0. 0. 0. 0. 0. 1.]\n",
      " [1. 1. 1. 1. 1. 1. 1. 1. 1. 1.]]\n"
     ]
    }
   ],
   "source": [
    "# Write a NumPy program to create a 10x10 matrix, in which the elements on the borders will be equal to 1, and inside 0.\n",
    "a = np.ones((10,10))\n",
    "a[1:-1,1:-1] =0\n",
    "print(a)"
   ]
  },
  {
   "cell_type": "code",
   "execution_count": 28,
   "id": "c752cf1b-bd1a-4777-b9f3-e8f61b485057",
   "metadata": {},
   "outputs": [
    {
     "name": "stdout",
     "output_type": "stream",
     "text": [
      "[[1 0 0 0 0]\n",
      " [0 2 0 0 0]\n",
      " [0 0 3 0 0]\n",
      " [0 0 0 4 0]\n",
      " [0 0 0 0 5]]\n"
     ]
    }
   ],
   "source": [
    "# Write a NumPy program to create a 5x5 zero matrix with elements on the main diagonal equal to 1,2, 3, 4, 5.\n",
    "a = np.diag([1,2,3,4,5])\n",
    "print(a)"
   ]
  },
  {
   "cell_type": "code",
   "execution_count": 29,
   "id": "8846698b-9acb-40b4-bf91-2d2f1a17a7a3",
   "metadata": {},
   "outputs": [
    {
     "name": "stdout",
     "output_type": "stream",
     "text": [
      "[[0. 1. 0. 1.]\n",
      " [1. 0. 1. 0.]\n",
      " [0. 1. 0. 1.]\n",
      " [1. 0. 1. 0.]]\n"
     ]
    }
   ],
   "source": [
    "# Write a NumPy program to create a 4x4 matrix in which 0 and 1 are staggered, with zeros on the main diagonal.\n",
    "a = np.zeros((4,4))\n",
    "a[::2,1::2]=1\n",
    "a[1::2,::2]=1\n",
    "print(a)"
   ]
  },
  {
   "cell_type": "code",
   "execution_count": 30,
   "id": "b9d43f5a-64df-4218-9db0-cfc98f0cd671",
   "metadata": {},
   "outputs": [
    {
     "name": "stdout",
     "output_type": "stream",
     "text": [
      "[[[0.48438483 0.93710276 0.3842164 ]\n",
      "  [0.63698633 0.07855047 0.77248183]\n",
      "  [0.27084105 0.77287197 0.27632558]]\n",
      "\n",
      " [[0.62855729 0.37206683 0.46727047]\n",
      "  [0.31606716 0.72927208 0.57890979]\n",
      "  [0.68048199 0.67768782 0.1575703 ]]\n",
      "\n",
      " [[0.9773823  0.97765364 0.747475  ]\n",
      "  [0.31309443 0.37020455 0.04833939]\n",
      "  [0.53205757 0.32818974 0.94680317]]]\n"
     ]
    }
   ],
   "source": [
    "# Write a NumPy program to create a 3x3x3 array filled with arbitrary values.\n",
    "a = np.random.random((3,3,3))\n",
    "print(a)"
   ]
  },
  {
   "cell_type": "code",
   "execution_count": 31,
   "id": "783ca36b-ecf4-427f-bf2d-54950050e901",
   "metadata": {},
   "outputs": [
    {
     "name": "stdout",
     "output_type": "stream",
     "text": [
      "[[1 2]\n",
      " [3 4]\n",
      " [4 5]]\n",
      "sum is 19\n",
      "col sum is [ 8 11]\n",
      "row sum is [3 7 9]\n"
     ]
    }
   ],
   "source": [
    "# Write a NumPy program to compute sum of all elements, sum of each column and sum of each row of a given array.\n",
    "x = np.array([[1,2],[3,4],[4,5]])\n",
    "print(x)\n",
    "print(\"sum is\",np.sum(x))\n",
    "print(\"col sum is\",np.sum(x,axis=0))\n",
    "print(\"row sum is\",np.sum(x,axis=1))"
   ]
  },
  {
   "cell_type": "code",
   "execution_count": 32,
   "id": "2a4e131a-2cce-42ae-810e-d1cf044a4b6b",
   "metadata": {},
   "outputs": [
    {
     "name": "stdout",
     "output_type": "stream",
     "text": [
      "The product is:  16\n"
     ]
    }
   ],
   "source": [
    "# Write a NumPy program to compute the inner product of two given vectors.\n",
    "a=np.array([1,2])\n",
    "b=np.array([4,6])\n",
    "print(\"The product is: \",np.dot(a,b))"
   ]
  },
  {
   "cell_type": "code",
   "execution_count": 33,
   "id": "7016b810-6700-4229-a90a-528e3a16e6ff",
   "metadata": {},
   "outputs": [
    {
     "name": "stdout",
     "output_type": "stream",
     "text": [
      "[[ 5 10  9]\n",
      " [ 8 13 12]\n",
      " [11 16 15]\n",
      " [14 19 18]]\n"
     ]
    }
   ],
   "source": [
    "# Write a NumPy program to add a vector to each row of a given matrix.\n",
    "a = np.array([[1, 2, 3], [4, 5, 6], [7, 8, 9], [10, 11, 12]])\n",
    "v = np.array([4,8,6])\n",
    "\n",
    "# Creating an empty matrix 'result' with the same shape as 'm' using np.empty_like()\n",
    "result = np.empty_like(a)\n",
    "# add:\n",
    "for i in range(4):\n",
    "    result[i,] = a[i,:] + v \n",
    "print(result)\n"
   ]
  },
  {
   "cell_type": "code",
   "execution_count": 49,
   "id": "89e62311-6482-45e4-b67e-d048fb7bda18",
   "metadata": {},
   "outputs": [
    {
     "name": "stdout",
     "output_type": "stream",
     "text": [
      "<class 'numpy.float32'>\n",
      "<class 'float'>\n"
     ]
    }
   ],
   "source": [
    "# Write a NumPy program to convert numpy dtypes to native python types.\n",
    "\n",
    "x = np.float32(0)\n",
    "print(type(x))\n",
    "\n",
    "pyval = x.item()\n",
    "print(type(pyval)) \n",
    "\n"
   ]
  },
  {
   "cell_type": "code",
   "execution_count": 35,
   "id": "bfff687e-e10c-4817-a6af-d591e3bc5041",
   "metadata": {},
   "outputs": [
    {
     "name": "stdout",
     "output_type": "stream",
     "text": [
      "[[False False False]\n",
      " [False False False]\n",
      " [False False False]\n",
      " [False False False]]\n"
     ]
    }
   ],
   "source": [
    "# Write a NumPy program to find the missing data in a given array.\n",
    "print(np.isnan(a))"
   ]
  },
  {
   "cell_type": "code",
   "execution_count": 36,
   "id": "7d4eeeb8-71f6-4ab0-b6c9-5b9e60e430e9",
   "metadata": {},
   "outputs": [
    {
     "name": "stdout",
     "output_type": "stream",
     "text": [
      "[1 4 8 9]\n",
      "[1 4 8 9]\n"
     ]
    }
   ],
   "source": [
    "# Write a NumPy program to sort a given array by row and column in ascending order.\n",
    "a = np.array([4,8,9,1])\n",
    "print(np.sort(a))\n",
    "print(np.sort(a,axis=0))\n",
    "            "
   ]
  },
  {
   "cell_type": "code",
   "execution_count": 40,
   "id": "d86235b7-0635-41cc-81d5-21cdde3ba784",
   "metadata": {},
   "outputs": [
    {
     "name": "stdout",
     "output_type": "stream",
     "text": [
      "\n",
      "Elements of the said array greater than 5\n",
      "[5.54 7.99 6.99 9.29]\n",
      "\n",
      "Elements of the said array less than 6\n",
      "[5.54 3.38 3.54 4.38 1.54 2.39]\n"
     ]
    }
   ],
   "source": [
    "# Write a NumPy program to extract all numbers from a given array which are less and greater than a specified number.\n",
    "\n",
    "nums = np.array([[5.54, 3.38, 7.99],\n",
    "              [3.54, 4.38, 6.99],\n",
    "              [1.54, 2.39, 9.29]])\n",
    "n = 5\n",
    "print(\"\\nElements of the said array greater than\", n)\n",
    "print(nums[nums > n])\n",
    "\n",
    "n = 6\n",
    "print(\"\\nElements of the said array less than\", n)\n",
    "print(nums[nums < n]) \n"
   ]
  },
  {
   "cell_type": "code",
   "execution_count": 122,
   "id": "047173da-576e-403f-88a6-03cddd6a4c96",
   "metadata": {},
   "outputs": [
    {
     "name": "stdout",
     "output_type": "stream",
     "text": [
      "[1 7 9]\n",
      "[7 4 9]\n",
      "[1 4 7]\n"
     ]
    }
   ],
   "source": [
    "# Write a NumPy program to replace all numbers in a given array which is equal, less and greater to a given number.\n",
    "a = np.array([1,4,9])\n",
    "v = 4\n",
    "k = 7\n",
    "\n",
    "print(np.where(a == v, k, a))\n",
    "print(np.where(a < v, k, a))\n",
    "print(np.where(a>v,k,a))\n",
    "        \n"
   ]
  },
  {
   "cell_type": "code",
   "execution_count": 83,
   "id": "26188fa3-0bd6-41dd-9943-0b869de099c8",
   "metadata": {},
   "outputs": [
    {
     "name": "stdout",
     "output_type": "stream",
     "text": [
      "[[[1 2 3 4]\n",
      "  [5 6 7 8]\n",
      "  [9 8 7 6]\n",
      "  [5 4 3 2]\n",
      "  [1 9 8 2]]\n",
      "\n",
      " [[2 3 4 7]\n",
      "  [8 6 5 3]\n",
      "  [7 1 9 5]\n",
      "  [3 6 8 3]\n",
      "  [7 9 5 7]]\n",
      "\n",
      " [[7 4 8 2]\n",
      "  [8 7 8 4]\n",
      "  [2 4 5 9]\n",
      "  [9 5 7 3]\n",
      "  [2 5 8 8]]]\n"
     ]
    }
   ],
   "source": [
    "# Write a NumPy program to create a three-dimensional array with shapes (3,5,4) and set to a variable.\n",
    "arr = np.array([[[1,2,3,4],[5,6,7,8],[9,8,7,6],[5,4,3,2],[1,9,8,2]],\n",
    "                [[2,3,4,7],[8,6,5,3],[7,1,9,5],[3,6,8,3],[7,9,5,7]],\n",
    "                [[7,4,8,2],[8,7,8,4],[2,4,5,9],[9,5,7,3],[2,5,8,8]]])\n",
    "\n",
    "print(arr)"
   ]
  },
  {
   "cell_type": "code",
   "execution_count": 79,
   "id": "41dac83b-96e0-4a56-954e-7de6b8b09c0c",
   "metadata": {},
   "outputs": [
    {
     "name": "stdout",
     "output_type": "stream",
     "text": [
      "[225 315 172]\n"
     ]
    }
   ],
   "source": [
    "# Write a NumPy program to multiply two given arrays of same size element-by-element.\n",
    "arr9 = np.array([25,45,86])\n",
    "arr10 = np.array([9,7,2])\n",
    "mul = arr9 * arr10\n",
    "print(mul)"
   ]
  }
 ],
 "metadata": {
  "kernelspec": {
   "display_name": "Python 3 (ipykernel)",
   "language": "python",
   "name": "python3"
  },
  "language_info": {
   "codemirror_mode": {
    "name": "ipython",
    "version": 3
   },
   "file_extension": ".py",
   "mimetype": "text/x-python",
   "name": "python",
   "nbconvert_exporter": "python",
   "pygments_lexer": "ipython3",
   "version": "3.11.7"
  }
 },
 "nbformat": 4,
 "nbformat_minor": 5
}
