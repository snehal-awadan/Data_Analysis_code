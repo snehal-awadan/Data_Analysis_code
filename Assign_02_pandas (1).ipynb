{
 "cells": [
  {
   "cell_type": "code",
   "execution_count": 82,
   "id": "5e88a838-5c54-470b-b124-e9298dab7928",
   "metadata": {},
   "outputs": [],
   "source": [
    "import numpy as np\n",
    "import pandas as pd\n",
    "from dateutil.parser import parse\n",
    "from collections import Counter"
   ]
  },
  {
   "cell_type": "code",
   "execution_count": 45,
   "id": "ef5ad74c-03e0-403f-b42d-428eb2d16483",
   "metadata": {},
   "outputs": [
    {
     "name": "stdout",
     "output_type": "stream",
     "text": [
      "0    1\n",
      "1    2\n",
      "2    3\n",
      "3    4\n",
      "dtype: int64\n"
     ]
    }
   ],
   "source": [
    "# 1. Write a Pandas program to create and display a one-dimensional array-like object containing an array of data using the Pandas module.\n",
    "s = pd.Series([1,2,3,4])\n",
    "print(s)\n"
   ]
  },
  {
   "cell_type": "code",
   "execution_count": 51,
   "id": "9d0a5bab-5c99-4b80-9649-8675f30d4b16",
   "metadata": {},
   "outputs": [
    {
     "name": "stdout",
     "output_type": "stream",
     "text": [
      "<class 'pandas.core.series.Series'>\n",
      "[1, 2, 3, 4]\n",
      "<class 'list'>\n"
     ]
    }
   ],
   "source": [
    "# 2. Write a Pandas program to convert a Panda module Series to Python list and it's type.\n",
    "s = pd.Series([1,2,3,4])\n",
    "print(type(s))\n",
    "print(s.tolist())\n",
    "print(type(s.tolist()))\n"
   ]
  },
  {
   "cell_type": "code",
   "execution_count": 54,
   "id": "14ea661d-489c-4a15-89bb-a33b4a4481ed",
   "metadata": {},
   "outputs": [
    {
     "name": "stdout",
     "output_type": "stream",
     "text": [
      "0     3\n",
      "1     7\n",
      "2    11\n",
      "3    15\n",
      "4    19\n",
      "dtype: int64\n",
      "0     2\n",
      "1    12\n",
      "2    30\n",
      "3    56\n",
      "4    90\n",
      "dtype: int64\n",
      "0    1\n",
      "1    1\n",
      "2    1\n",
      "3    1\n",
      "4    1\n",
      "dtype: int64\n",
      "0    2.000000\n",
      "1    1.333333\n",
      "2    1.200000\n",
      "3    1.142857\n",
      "4    1.111111\n",
      "dtype: float64\n"
     ]
    }
   ],
   "source": [
    "# 3. Write a Pandas program to add, subtract, multiple and divide two Pandas Series.  \n",
    "s = pd.Series([2, 4, 6, 8, 10])\n",
    "s1 = pd.Series([1, 3, 5, 7, 9])\n",
    "print(s + s1)\n",
    "print(s * s1)\n",
    "print(s - s1)\n",
    "print(s / s1)"
   ]
  },
  {
   "cell_type": "code",
   "execution_count": 55,
   "id": "6c332083-2814-49ec-aae5-cd87481eec0b",
   "metadata": {},
   "outputs": [
    {
     "name": "stdout",
     "output_type": "stream",
     "text": [
      "0    False\n",
      "1    False\n",
      "2    False\n",
      "3    False\n",
      "4     True\n",
      "dtype: bool\n",
      "0    False\n",
      "1    False\n",
      "2    False\n",
      "3    False\n",
      "4    False\n",
      "dtype: bool\n",
      "0     True\n",
      "1     True\n",
      "2     True\n",
      "3     True\n",
      "4    False\n",
      "dtype: bool\n"
     ]
    }
   ],
   "source": [
    "# 4. Write a Pandas program to compare the elements of the two Pandas Series. \n",
    "\n",
    "s = pd.Series([2, 4, 6, 8, 10])\n",
    "s1 = pd.Series([1, 3, 5, 7, 10])\n",
    "print(s==s1)\n",
    "print(s<s1)\n",
    "print(s>s1)\n",
    "\n"
   ]
  },
  {
   "cell_type": "code",
   "execution_count": 57,
   "id": "33297c3c-619d-44a1-906c-89c632887347",
   "metadata": {},
   "outputs": [
    {
     "name": "stdout",
     "output_type": "stream",
     "text": [
      "{'A': 10, 'B': 20, 'C': 30}\n",
      "A    10\n",
      "B    20\n",
      "C    30\n",
      "dtype: int64\n"
     ]
    }
   ],
   "source": [
    "# 5. Write a Pandas program to convert a dictionary to a Pandas series.\n",
    "dict = {\"A\": 10,\"B\":20,\"C\":30}\n",
    "print(dict)\n",
    "print(pd.Series(dict))"
   ]
  },
  {
   "cell_type": "code",
   "execution_count": 61,
   "id": "bb56c31c-dd8f-4797-a7f5-d01fd0505351",
   "metadata": {},
   "outputs": [
    {
     "name": "stdout",
     "output_type": "stream",
     "text": [
      "[10 20 30]\n",
      "0    10\n",
      "1    20\n",
      "2    30\n",
      "dtype: int32\n"
     ]
    }
   ],
   "source": [
    "# 6. Write a Pandas program to convert a NumPy array to a Pandas series.\n",
    "\n",
    "a = np.array([10,20,30])\n",
    "print(a)\n",
    "s = pd.Series(a)\n",
    "print(s)"
   ]
  },
  {
   "cell_type": "code",
   "execution_count": 64,
   "id": "9988ef14-31f1-4ec3-98a6-8d825baaf4b8",
   "metadata": {},
   "outputs": [
    {
     "name": "stdout",
     "output_type": "stream",
     "text": [
      "0    100.0\n",
      "1    200.0\n",
      "2    300.0\n",
      "3      NaN\n",
      "4    500.0\n",
      "dtype: float64\n"
     ]
    }
   ],
   "source": [
    "# 7. Write a Pandas program to change the data type of given a column or a Series.\n",
    "\n",
    "s = pd.Series([100,200,300,\"python\",500])\n",
    "\n",
    "#If ‘coerce’, then invalid parsing will be set as NaN.\n",
    "a = pd.to_numeric(s,errors = \"coerce\")\n",
    "print(a)"
   ]
  },
  {
   "cell_type": "code",
   "execution_count": 69,
   "id": "1d58c2b4-6ee9-4650-8b43-6cd3f503fa95",
   "metadata": {},
   "outputs": [
    {
     "name": "stdout",
     "output_type": "stream",
     "text": [
      "col1    [1, 2, 3, 4, 5]\n",
      "col2    [5, 6, 7, 8, 9]\n",
      "col3       [7, 5, 2, 6]\n",
      "dtype: object\n",
      "[1, 2, 3, 4, 5]\n"
     ]
    }
   ],
   "source": [
    "# 8. Write a Pandas program to convert the first column of a DataFrame as a Series.\n",
    "s = {\"col1\":[1,2,3,4,5],\"col2\":[5,6,7,8,9],\"col3\":[7,5,2,6]}\n",
    "print(pd.Series(s))\n",
    "# print first col;\n",
    "print(s[\"col1\"])"
   ]
  },
  {
   "cell_type": "code",
   "execution_count": 73,
   "id": "df638961-3775-4bec-8cbc-3b55edca1729",
   "metadata": {},
   "outputs": [
    {
     "name": "stdout",
     "output_type": "stream",
     "text": [
      "0       100\n",
      "1       200\n",
      "2       300\n",
      "3    python\n",
      "4       500\n",
      "dtype: object\n",
      "[100 200 300 'python' 500]\n"
     ]
    }
   ],
   "source": [
    "# 9. Write a Pandas program to convert a given Series to an array.\n",
    "s = pd.Series([100,200,300,\"python\",500])\n",
    "print(s)\n",
    "\n",
    "print(np.array(s))"
   ]
  },
  {
   "cell_type": "code",
   "execution_count": 78,
   "id": "33f766cf-6f11-4633-856a-2dcf6b56e270",
   "metadata": {},
   "outputs": [
    {
     "name": "stdout",
     "output_type": "stream",
     "text": [
      "0      [Red, yellow]\n",
      "1      [blue, black]\n",
      "2    [purple, white]\n",
      "dtype: object\n",
      "0       Red\n",
      "1    yellow\n",
      "2      blue\n",
      "3     black\n",
      "4    purple\n",
      "5     white\n",
      "dtype: object\n"
     ]
    }
   ],
   "source": [
    "# 10. Write a Pandas program to convert Series of lists to one Series.\n",
    "\n",
    "s = pd.Series([[\"Red\",\"yellow\"],[\"blue\",\"black\"],[\"purple\",\"white\"]])\n",
    "print(s)\n",
    "\n",
    "print(s.apply(pd.Series).stack().reset_index(drop=True))"
   ]
  },
  {
   "cell_type": "code",
   "execution_count": 89,
   "id": "8a70d42c-a74a-40d2-bc05-955a740294d3",
   "metadata": {},
   "outputs": [
    {
     "name": "stdout",
     "output_type": "stream",
     "text": [
      "0       100\n",
      "1       200\n",
      "2       900\n",
      "3       800\n",
      "4    python\n",
      "5       700\n",
      "dtype: object\n",
      "0       100\n",
      "1       200\n",
      "5       700\n",
      "3       800\n",
      "2       900\n",
      "4    python\n",
      "dtype: object\n"
     ]
    }
   ],
   "source": [
    "# 11. Write a Pandas program to sort a given Series.\n",
    "s = pd.Series([\"100\",\"200\",\"900\",\"800\",\"python\",\"700\"])\n",
    "print(s)\n",
    "\n",
    "sort = pd.Series(s).sort_values()\n",
    "print(sort)"
   ]
  },
  {
   "cell_type": "code",
   "execution_count": 94,
   "id": "c80b123a-3c5f-42dd-9fe3-d0460b3b42a2",
   "metadata": {},
   "outputs": [
    {
     "name": "stdout",
     "output_type": "stream",
     "text": [
      "0       100\n",
      "1       200\n",
      "2       900\n",
      "3       800\n",
      "4    python\n",
      "5       700\n",
      "0       500\n",
      "1       php\n",
      "dtype: object\n"
     ]
    }
   ],
   "source": [
    "# 12. Write a Pandas program to add some data to an existing Series.\n",
    "\n",
    "new_s = pd.concat([s, pd.Series([500, \"php\"])])\n",
    "print(new_s)"
   ]
  },
  {
   "cell_type": "code",
   "execution_count": 96,
   "id": "af8174d3-f268-46db-b26b-1ad71ffd1725",
   "metadata": {},
   "outputs": [
    {
     "name": "stdout",
     "output_type": "stream",
     "text": [
      "0    1\n",
      "1    2\n",
      "2    4\n",
      "3    5\n",
      "4    7\n",
      "5    8\n",
      "6    9\n",
      "dtype: int64\n",
      "0    1\n",
      "1    2\n",
      "2    4\n",
      "dtype: int64\n"
     ]
    }
   ],
   "source": [
    "# 13. Write a Pandas program to create a subset of a given series based on value and condition.\n",
    "\n",
    "s = pd.Series([1,2,4,5,7,8,9])\n",
    "print(s)\n",
    "res = s[s<5]\n",
    "print(res)"
   ]
  },
  {
   "cell_type": "code",
   "execution_count": 99,
   "id": "900d52b2-86d2-4e06-a3ad-13948f7d673d",
   "metadata": {},
   "outputs": [
    {
     "name": "stdout",
     "output_type": "stream",
     "text": [
      "A    1\n",
      "B    2\n",
      "C    3\n",
      "D    4\n",
      "E    5\n",
      "dtype: int64\n",
      "D    4\n",
      "C    3\n",
      "B    2\n",
      "A    1\n",
      "dtype: int64\n"
     ]
    }
   ],
   "source": [
    "# 14. Write a Pandas program to change the order of index of a given series.\n",
    "s = pd.Series(data= [1,2,3,4,5], index = [\"A\",\"B\",\"C\",\"D\",\"E\"])\n",
    "print(s)\n",
    "res = s.reindex(index=[\"D\",\"C\",\"B\",\"A\"])\n",
    "print(res)"
   ]
  },
  {
   "cell_type": "code",
   "execution_count": 105,
   "id": "1f203825-ed77-4a23-8044-14540598f669",
   "metadata": {},
   "outputs": [
    {
     "name": "stdout",
     "output_type": "stream",
     "text": [
      "5.0\n",
      "3.5355339059327378\n"
     ]
    }
   ],
   "source": [
    "# 15. create the mean and standard deviation of the data of a given Series.\n",
    "s= pd.Series([1,2,5,8,9])\n",
    "print(s.mean())\n",
    "print(s.std())"
   ]
  },
  {
   "cell_type": "code",
   "execution_count": 112,
   "id": "be8fd2d7-d921-450e-8557-22f6273d38f2",
   "metadata": {},
   "outputs": [
    {
     "name": "stdout",
     "output_type": "stream",
     "text": [
      "0     0\n",
      "1    10\n",
      "2     5\n",
      "dtype: int64\n",
      "0     0\n",
      "1    45\n",
      "2     5\n",
      "dtype: int64\n",
      "[0 5]\n"
     ]
    }
   ],
   "source": [
    "# 16. get the items of a given series not present in another given series.\n",
    "\n",
    "s = pd.Series([0,10,5])\n",
    "s1 = pd.Series([0,45,5])\n",
    "print(s)\n",
    "print(s1)\n",
    "print(np.intersect1d(s,s1))"
   ]
  },
  {
   "cell_type": "code",
   "execution_count": 122,
   "id": "5ebd7c23-197d-440b-81f7-2057e2fbcf3f",
   "metadata": {},
   "outputs": [
    {
     "name": "stdout",
     "output_type": "stream",
     "text": [
      "intersection is: \n",
      "[0 5]\n",
      "union is: \n",
      "0     0\n",
      "1     5\n",
      "2    10\n",
      "3    45\n",
      "dtype: int64\n",
      "2    10\n",
      "3    45\n",
      "dtype: int64\n"
     ]
    }
   ],
   "source": [
    "# 17. to get the items that are not common in two given series.\n",
    "\n",
    "intersect = np.intersect1d(s,s1)\n",
    "print(\"intersection is: \")\n",
    "print(intersect)\n",
    "union = pd.Series(np.union1d(s,s1))\n",
    "print(\"union is: \")\n",
    "print(union)\n",
    "res = union[~union.isin(intersect)]\n",
    "print(res)"
   ]
  },
  {
   "cell_type": "code",
   "execution_count": 132,
   "id": "57804c3d-3414-4c47-ac13-db0f070faa57",
   "metadata": {},
   "outputs": [
    {
     "name": "stdout",
     "output_type": "stream",
     "text": [
      "[ 1.25117263  8.22384244 11.27500722 12.96734912 15.76517901]\n"
     ]
    }
   ],
   "source": [
    "# 18.compute the minimum, 25th percentile, median, 75th, and maximum of a given series.\n",
    "\n",
    "# generate value with seed value = 100;\n",
    "s = np.random.RandomState(100)\n",
    "\n",
    "series = pd.Series(s.normal(10,5,15))\n",
    "res = np.percentile(series, q=[0,25,50,75,100])\n",
    "print(res)"
   ]
  },
  {
   "cell_type": "code",
   "execution_count": 136,
   "id": "9741c974-25d0-485f-967e-1b4d20276133",
   "metadata": {},
   "outputs": [
    {
     "name": "stdout",
     "output_type": "stream",
     "text": [
      "1    10\n",
      "2     4\n",
      "5     4\n",
      "8     2\n",
      "Name: count, dtype: int64\n"
     ]
    }
   ],
   "source": [
    "# 19.calculate the frequency counts of each unique value of a given series.\n",
    "\n",
    "s = pd.Series([1,1,1,1,1,1,1,1,1,1,2,2,2,2,5,5,5,5,8,8])\n",
    "\n",
    "print(s.value_counts())"
   ]
  },
  {
   "cell_type": "code",
   "execution_count": 139,
   "id": "fcc85ec5-4ba4-4f26-99f5-b71847add6fd",
   "metadata": {},
   "outputs": [
    {
     "name": "stdout",
     "output_type": "stream",
     "text": [
      "0         1\n",
      "1         1\n",
      "2         1\n",
      "3         1\n",
      "4         1\n",
      "5         1\n",
      "6         1\n",
      "7         1\n",
      "8         1\n",
      "9         1\n",
      "10    other\n",
      "11    other\n",
      "12    other\n",
      "13    other\n",
      "14    other\n",
      "15    other\n",
      "16    other\n",
      "17    other\n",
      "18    other\n",
      "19    other\n",
      "dtype: object\n"
     ]
    },
    {
     "name": "stderr",
     "output_type": "stream",
     "text": [
      "C:\\Users\\Rohit\\AppData\\Local\\Temp\\ipykernel_17816\\3688207944.py:4: FutureWarning: Setting an item of incompatible dtype is deprecated and will raise in a future error of pandas. Value 'other' has dtype incompatible with int64, please explicitly cast to a compatible dtype first.\n",
      "  s[~s.isin(s.value_counts().index[:1])] = \"other\"\n"
     ]
    }
   ],
   "source": [
    "# 20.display most frequent value in a given series and replace everything else as 'Other' in the series.\n",
    "\n",
    "s = pd.Series([1,1,1,1,1,1,1,1,1,1,2,2,2,2,5,5,5,5,8,8])\n",
    "s[~s.isin(s.value_counts().index[:1])] = \"other\"\n",
    "print(s)"
   ]
  },
  {
   "cell_type": "code",
   "execution_count": 147,
   "id": "66607b1d-2b38-4cf1-b502-c56ff1bfb5a7",
   "metadata": {},
   "outputs": [
    {
     "name": "stdout",
     "output_type": "stream",
     "text": [
      "0    1\n",
      "1    9\n",
      "2    8\n",
      "3    6\n",
      "4    9\n",
      "5    1\n",
      "6    1\n",
      "7    1\n",
      "8    5\n",
      "dtype: int64\n",
      "(array([8], dtype=int64),)\n"
     ]
    }
   ],
   "source": [
    "# find the positions of numbers that are multiples of 5 of a given series.\n",
    "s = pd.Series([1,9,8,6,9,1,1,1,5])\n",
    "print(s)\n",
    "res = np.where(s % 5==0)\n",
    "print(res)"
   ]
  },
  {
   "cell_type": "code",
   "execution_count": 154,
   "id": "b63a7a1a-d41c-4bbb-ae7a-3e726453ada2",
   "metadata": {},
   "outputs": [
    {
     "name": "stdout",
     "output_type": "stream",
     "text": [
      "0     7\n",
      "1     9\n",
      "2     9\n",
      "3     1\n",
      "4     3\n",
      "5     2\n",
      "6    10\n",
      "7    13\n",
      "8    11\n",
      "9    13\n",
      "dtype: int32\n",
      "2     9\n",
      "4     3\n",
      "6    10\n",
      "dtype: int32\n"
     ]
    }
   ],
   "source": [
    "# extract items at given positions of a given series.\n",
    "pos = [2,4,6]\n",
    "s = pd.Series(np.random.randint(1,15,10))\n",
    "print(s)\n",
    "res = s.take(pos)\n",
    "print(res)"
   ]
  },
  {
   "cell_type": "code",
   "execution_count": 160,
   "id": "09f25434-8ae7-4167-b590-b94f3a3ab46d",
   "metadata": {},
   "outputs": [
    {
     "name": "stdout",
     "output_type": "stream",
     "text": [
      "0     True\n",
      "1    False\n",
      "2    False\n",
      "3    False\n",
      "4    False\n",
      "5    False\n",
      "6     True\n",
      "7    False\n",
      "8    False\n",
      "9    False\n",
      "dtype: bool\n",
      "Index([0, 6], dtype='int64')\n"
     ]
    }
   ],
   "source": [
    "# 23. get the positions of items of a given series in another given series.\n",
    "\n",
    "s1 = pd.Series(np.random.randint(0,15,10))\n",
    "s2 = pd.Series(np.random.randint(1,20,5))\n",
    "\n",
    "m = s1.isin(s2)\n",
    "\n",
    "pos = m.where(m).dropna().index\n",
    "print(pos)\n"
   ]
  },
  {
   "cell_type": "code",
   "execution_count": 162,
   "id": "8a2b8a5a-e98c-48cb-8b92-a118b2c86159",
   "metadata": {},
   "outputs": [
    {
     "name": "stdout",
     "output_type": "stream",
     "text": [
      "0    python\n",
      "1      java\n",
      "2       php\n",
      "3        c#\n",
      "dtype: object\n",
      "0    PythoN\n",
      "1      JavA\n",
      "2       PhP\n",
      "3        C#\n",
      "dtype: object\n"
     ]
    }
   ],
   "source": [
    "# 24.convert the first and last character of each word to upper case in each word of a given series.\n",
    "s = pd.Series([\"python\",\"java\",\"php\",\"c#\"])\n",
    "print(s)\n",
    "res = s.map(lambda x:x[0].upper() + x[1:-1] + x[-1].upper())\n",
    "print(res)"
   ]
  },
  {
   "cell_type": "code",
   "execution_count": 166,
   "id": "d87e29b0-64c1-4b7e-833d-e6b0a91c9838",
   "metadata": {},
   "outputs": [
    {
     "data": {
      "text/plain": [
       "0    6\n",
       "1    4\n",
       "2    2\n",
       "3    3\n",
       "dtype: int64"
      ]
     },
     "execution_count": 166,
     "metadata": {},
     "output_type": "execute_result"
    }
   ],
   "source": [
    "# 25.calculate the number of characters in each word in a given series.\n",
    "\n",
    "s = pd.Series([\"python\",\"java\",\"c#\",\"php\"])\n",
    "s.map(lambda x : len(x))"
   ]
  },
  {
   "cell_type": "code",
   "execution_count": 173,
   "id": "e9c21c76-a29b-4467-a9e1-3f6f4bdcb81c",
   "metadata": {},
   "outputs": [
    {
     "name": "stdout",
     "output_type": "stream",
     "text": [
      "0    1\n",
      "1    3\n",
      "2    5\n",
      "3    7\n",
      "4    9\n",
      "5    4\n",
      "6    5\n",
      "7    6\n",
      "8    1\n",
      "dtype: int64\n",
      "[nan, 2.0, 2.0, 2.0, 2.0, -5.0, 1.0, 1.0, -5.0]\n",
      "[nan, nan, 0.0, 0.0, 0.0, -7.0, 6.0, 0.0, -6.0]\n"
     ]
    }
   ],
   "source": [
    "# 26.compute difference of differences between consecutive numbers of a given series.\n",
    "\n",
    "s = pd.Series([1,3,5,7,9,4,5,6,1])\n",
    "print(s)\n",
    "print(s.diff().tolist())\n",
    "print(s.diff().diff().tolist())"
   ]
  },
  {
   "cell_type": "code",
   "execution_count": 61,
   "id": "3b84d536-ece1-4663-92fe-8de3a0a61167",
   "metadata": {},
   "outputs": [
    {
     "name": "stdout",
     "output_type": "stream",
     "text": [
      "Series of date strings:\n",
      "0              28 July 2020\n",
      "1           16 January 2013\n",
      "2    29 February 2016 18:14\n",
      "dtype: object\n",
      "\n",
      "Series of date strings after being converted to a timeseries:\n",
      "0   2020-07-28\n",
      "1   2013-01-16\n",
      "2          NaT\n",
      "dtype: datetime64[ns]\n"
     ]
    }
   ],
   "source": [
    "# 27. Write a Pandas program to convert a series of date strings to a timeseries.\n",
    "\n",
    "dt_series = pd.Series(['28 July 2020', '16 January 2013', '29 February 2016 18:14'])\n",
    "\n",
    "# display the series initially\n",
    "print(\"Series of date strings:\")\n",
    "print(dt_series)\n",
    "\n",
    "print(\"\\nSeries of date strings after being converted to a timeseries:\")\n",
    "print(pd.to_datetime(dt_series, errors='coerce'))\n",
    "\n",
    "# errors='coerce'==> conversion process does not halt when encountering invalid date strings, \n",
    "# and instead replaces them with NaT(Not a time) values."
   ]
  },
  {
   "cell_type": "code",
   "execution_count": 80,
   "id": "a4da46f3-7760-4f7b-baf2-933ae2f1e970",
   "metadata": {},
   "outputs": [
    {
     "name": "stdout",
     "output_type": "stream",
     "text": [
      "0         01 Dec 2023\n",
      "1            20180307\n",
      "2          10-02-2023\n",
      "3          2014/05/06\n",
      "4    2019-04-06T11:20\n",
      "dtype: object\n",
      "[1, 7, 2, 6, 6]\n",
      "[335, 66, 275, 126, 96]\n",
      "[4, 2, 0, 1, 5]\n"
     ]
    }
   ],
   "source": [
    "# 28. get the day of month, day of year, week number and day of week from a given series of date strings.\n",
    "\n",
    "s = pd.Series([\"01 Dec 2023\", \"20180307\", \"10-02-2023\", \"2014/05/06\", \"2019-04-06T11:20\"])\n",
    "print(s)\n",
    "s = s.map(lambda x: parse(x))\n",
    "print(s.dt.day.tolist())\n",
    "print(s.dt.dayofyear.tolist())\n",
    "print(s.dt.dayofweek.tolist())\n"
   ]
  },
  {
   "cell_type": "code",
   "execution_count": 83,
   "id": "7ae9f5d9-383e-41c6-8e5d-cd3583ad17a4",
   "metadata": {},
   "outputs": [
    {
     "name": "stdout",
     "output_type": "stream",
     "text": [
      "0   2015-01-11\n",
      "1   2016-02-11\n",
      "2   2027-03-11\n",
      "3   2018-04-11\n",
      "4   2019-05-11\n",
      "dtype: datetime64[ns]\n"
     ]
    }
   ],
   "source": [
    "# 29.convert year-month string to dates adding a specified day of the month.\n",
    "s = pd.Series([\"jan 2015\", \"feb 2016\", \"mar 2027\", \"apr 2018\",\"may 2019\"])\n",
    "res = s.map(lambda b : parse(\"11\" + b))\n",
    "print(res)\n"
   ]
  },
  {
   "cell_type": "code",
   "execution_count": 201,
   "id": "56e96164-4f80-4659-ab9f-5b266ebd50f4",
   "metadata": {},
   "outputs": [
    {
     "name": "stdout",
     "output_type": "stream",
     "text": [
      "Original Series:\n",
      "0    python\n",
      "1      java\n",
      "2       php\n",
      "3        c#\n",
      "4       c++\n",
      "dtype: object\n",
      "\n",
      "Filtered words:\n",
      "1    java\n",
      "dtype: object\n"
     ]
    }
   ],
   "source": [
    "# 30. filter words from a given series that contain at least two vowels.\n",
    "\n",
    "s = pd.Series(['python', 'java', 'php', 'c#', 'c++'])\n",
    "print(\"Original Series:\")\n",
    "print(s)\n",
    "print(\"\\nFiltered words:\")\n",
    "result =s.map(lambda c: sum([Counter(c.lower()).get(i, 0) for i in list('aeiou')]) >= 2)\n",
    "print(s[result])"
   ]
  },
  {
   "cell_type": "code",
   "execution_count": 224,
   "id": "639db956-3baf-4d7f-86d4-c0f6f08f7c92",
   "metadata": {},
   "outputs": [
    {
     "name": "stdout",
     "output_type": "stream",
     "text": [
      "11.40175425099138\n"
     ]
    }
   ],
   "source": [
    "# 31. Write a Pandas program to compute the Euclidean distance between two given series.\n",
    "s1 = pd.Series([1,4,7,8,9,6,5])\n",
    "s2 = pd.Series([5,8,9,6,4,13,1])\n",
    "print(np.linalg.norm(s1-s2))"
   ]
  },
  {
   "cell_type": "code",
   "execution_count": 84,
   "id": "49b27de3-58bd-4e5c-9231-f4037acee8a7",
   "metadata": {},
   "outputs": [
    {
     "name": "stdout",
     "output_type": "stream",
     "text": [
      "[1 8]\n"
     ]
    }
   ],
   "source": [
    "# 32. find the positions of the values neighboured by smaller values on both sides in a given series.\n",
    "\n",
    "nums = pd.Series([1,8,7,6,5,5,3,4,7,1])\n",
    "temp = np.diff(np.sign(np.diff(nums)))\n",
    "res = np.where(temp == -2)[0] +1\n",
    "print(res)"
   ]
  },
  {
   "cell_type": "code",
   "execution_count": 94,
   "id": "c5dd7278-8015-4334-b73f-0914962ed185",
   "metadata": {},
   "outputs": [
    {
     "name": "stdout",
     "output_type": "stream",
     "text": [
      "abs def abcdef iicd\n",
      "0     a\n",
      "1     b\n",
      "2     s\n",
      "3      \n",
      "4     d\n",
      "5     e\n",
      "6     f\n",
      "7      \n",
      "8     a\n",
      "9     b\n",
      "10    c\n",
      "11    d\n",
      "12    e\n",
      "13    f\n",
      "14     \n",
      "15    i\n",
      "16    i\n",
      "17    c\n",
      "18    d\n",
      "dtype: object\n",
      "     3\n",
      "d    3\n",
      "a    2\n",
      "b    2\n",
      "e    2\n",
      "f    2\n",
      "c    2\n",
      "i    2\n",
      "s    1\n",
      "Name: count, dtype: int64\n",
      "abssdefsabcdefsiicd\n"
     ]
    }
   ],
   "source": [
    "# 33. Replace missing white spaces in a given string with the least frequent character.\n",
    "\n",
    "str = \"abs def abcdef iicd\"\n",
    "print(str)\n",
    "#print(str)\n",
    "s = pd.Series(list(str))\n",
    "print(s)\n",
    "counts= s.value_counts()\n",
    "print(counts)\n",
    "curr_freq = counts.dropna().index[-1]\n",
    "res = \"\".join(s.replace(\" \",curr_freq))\n",
    "print(res)\n"
   ]
  },
  {
   "cell_type": "code",
   "execution_count": 96,
   "id": "4eb59c9e-9f78-4909-b3a2-6f2041ebee5d",
   "metadata": {},
   "outputs": [
    {
     "name": "stdout",
     "output_type": "stream",
     "text": [
      "Original series:\n",
      "0     20.124573\n",
      "1     17.309740\n",
      "2     -8.738018\n",
      "3     -1.455472\n",
      "4      3.142887\n",
      "5     19.427678\n",
      "6     19.681413\n",
      "7      1.341436\n",
      "8      6.186579\n",
      "9     11.760272\n",
      "10    -3.683948\n",
      "11    -4.888702\n",
      "12    19.065804\n",
      "13    13.358885\n",
      "14     5.008774\n",
      "dtype: float64\n",
      "\n",
      "Autocorrelations of the said series:\n",
      "[0.13, -0.61, -0.28, -0.05, -0.03, 0.11, 0.35, 0.5, -0.02, -0.98]\n"
     ]
    }
   ],
   "source": [
    "# 34. Write a Pandas program to compute the autocorrelations of a given numeric series.\n",
    "s = pd.Series(np.arange(15) + np.random.normal(1, 10, 15))\n",
    "print(\"Original series:\")\n",
    "print(s)\n",
    "autocorrelations = [s.autocorr(i).round(2) for i in range(11)]\n",
    "print(\"\\nAutocorrelations of the said series:\")\n",
    "print(autocorrelations[1:])"
   ]
  },
  {
   "cell_type": "code",
   "execution_count": 97,
   "id": "fe864357-4172-4248-ba36-35f1a7ab93dd",
   "metadata": {},
   "outputs": [
    {
     "name": "stdout",
     "output_type": "stream",
     "text": [
      "All Sundays of 2019:\n",
      "0    2020-01-05\n",
      "1    2020-01-12\n",
      "2    2020-01-19\n",
      "3    2020-01-26\n",
      "4    2020-02-02\n",
      "5    2020-02-09\n",
      "6    2020-02-16\n",
      "7    2020-02-23\n",
      "8    2020-03-01\n",
      "9    2020-03-08\n",
      "10   2020-03-15\n",
      "11   2020-03-22\n",
      "12   2020-03-29\n",
      "13   2020-04-05\n",
      "14   2020-04-12\n",
      "15   2020-04-19\n",
      "16   2020-04-26\n",
      "17   2020-05-03\n",
      "18   2020-05-10\n",
      "19   2020-05-17\n",
      "20   2020-05-24\n",
      "21   2020-05-31\n",
      "22   2020-06-07\n",
      "23   2020-06-14\n",
      "24   2020-06-21\n",
      "25   2020-06-28\n",
      "26   2020-07-05\n",
      "27   2020-07-12\n",
      "28   2020-07-19\n",
      "29   2020-07-26\n",
      "30   2020-08-02\n",
      "31   2020-08-09\n",
      "32   2020-08-16\n",
      "33   2020-08-23\n",
      "34   2020-08-30\n",
      "35   2020-09-06\n",
      "36   2020-09-13\n",
      "37   2020-09-20\n",
      "38   2020-09-27\n",
      "39   2020-10-04\n",
      "40   2020-10-11\n",
      "41   2020-10-18\n",
      "42   2020-10-25\n",
      "43   2020-11-01\n",
      "44   2020-11-08\n",
      "45   2020-11-15\n",
      "46   2020-11-22\n",
      "47   2020-11-29\n",
      "48   2020-12-06\n",
      "49   2020-12-13\n",
      "50   2020-12-20\n",
      "51   2020-12-27\n",
      "dtype: datetime64[ns]\n"
     ]
    }
   ],
   "source": [
    "# 35. Write a Pandas program to create a TimeSeries to display all the Sundays of given year.\n",
    "\n",
    "# 52 ==> 364 days(one year)\n",
    "# freq='W-SUN' ==> weekly frequency of sundays;\n",
    "\n",
    "result = pd.Series(pd.date_range('2020-01-01', periods=52, freq='W-SUN'))\n",
    "print(\"All Sundays of 2019:\")\n",
    "print(result)\n"
   ]
  },
  {
   "cell_type": "code",
   "execution_count": 98,
   "id": "4202bca2-415b-47ab-bb61-c42b7c0366db",
   "metadata": {},
   "outputs": [
    {
     "name": "stdout",
     "output_type": "stream",
     "text": [
      "  index  0\n",
      "0     A  0\n",
      "1     B  1\n",
      "2     C  2\n",
      "3     D  3\n",
      "4     E  4\n"
     ]
    }
   ],
   "source": [
    "# 36. convert given series into a dataframe with its index as another column on the dataframe.\n",
    "\n",
    "char_list = list('ABCDEFGHIJKLMNOP')\n",
    "num_arra = np.arange(8)\n",
    "num_dict = dict(zip(char_list, num_arra))\n",
    "num_ser = pd.Series(num_dict)\n",
    "df = num_ser.to_frame().reset_index()\n",
    "print(df.head())"
   ]
  },
  {
   "cell_type": "code",
   "execution_count": 17,
   "id": "22d6c279-fbb5-4b4d-bf71-072996f8b9ca",
   "metadata": {},
   "outputs": [
    {
     "name": "stdout",
     "output_type": "stream",
     "text": [
      "0    0\n",
      "1    1\n",
      "2    2\n",
      "3    3\n",
      "4    4\n",
      "5    5\n",
      "6    6\n",
      "7    7\n",
      "8    8\n",
      "9    9\n",
      "dtype: int64 0    p\n",
      "1    q\n",
      "2    r\n",
      "3    s\n",
      "4    t\n",
      "5    u\n",
      "6    v\n",
      "7    w\n",
      "8    x\n",
      "9    y\n",
      "dtype: object\n",
      "   0  1\n",
      "0  0  p\n",
      "1  1  q\n",
      "2  2  r\n",
      "3  3  s\n",
      "4  4  t\n",
      "5  5  u\n",
      "6  6  v\n",
      "7  7  w\n",
      "8  8  x\n",
      "9  9  y\n",
      "\n",
      "vertically\n",
      "0    0\n",
      "1    1\n",
      "2    2\n",
      "3    3\n",
      "4    4\n",
      "5    5\n",
      "6    6\n",
      "7    7\n",
      "8    8\n",
      "9    9\n",
      "0    p\n",
      "1    q\n",
      "2    r\n",
      "3    s\n",
      "4    t\n",
      "5    u\n",
      "6    v\n",
      "7    w\n",
      "8    x\n",
      "9    y\n",
      "dtype: object\n"
     ]
    }
   ],
   "source": [
    "# 37. to stack two given series vertically and horizontally.\n",
    "\n",
    "\n",
    "s1 = pd.Series(range(10))\n",
    "s2 = pd.Series(list(\"pqrstuvwxy\"))\n",
    "print(s1,s2)\n",
    "\n",
    "horixontal = pd.concat([s1,s2], axis = 1)\n",
    "print(horixontal)\n",
    "\n",
    "print()\n",
    "print(\"vertically\")\n",
    "verticle = pd.concat([s1,s2],axis = 0)\n",
    "print(verticle)\n",
    "   \n"
   ]
  },
  {
   "cell_type": "code",
   "execution_count": 30,
   "id": "fbba0294-e263-447e-b1d1-bb2980a0eb60",
   "metadata": {},
   "outputs": [
    {
     "name": "stdout",
     "output_type": "stream",
     "text": [
      "0      1\n",
      "1      5\n",
      "2      6\n",
      "3      7\n",
      "4      9\n",
      "5     10\n",
      "6      8\n",
      "7      6\n",
      "8      7\n",
      "9      4\n",
      "10     2\n",
      "dtype: int64\n",
      "0     1\n",
      "1     2\n",
      "2     3\n",
      "3     4\n",
      "4     5\n",
      "5     9\n",
      "6     6\n",
      "7     7\n",
      "8     1\n",
      "9     8\n",
      "10    2\n",
      "dtype: int64\n",
      "0      True\n",
      "1     False\n",
      "2     False\n",
      "3     False\n",
      "4     False\n",
      "5     False\n",
      "6     False\n",
      "7     False\n",
      "8     False\n",
      "9     False\n",
      "10     True\n",
      "dtype: bool\n"
     ]
    }
   ],
   "source": [
    "# 38. Write a Pandas program to check the equality of two given series.\n",
    "\n",
    "# the length of the two series should be same;\n",
    "\n",
    "s1 = pd.Series([1,5,6,7,9,10,8,6,7,4,2])\n",
    "s2 = pd.Series([1,2,3,4,5,9,6,7,1,8,2])\n",
    "print(s1)\n",
    "print(s2)\n",
    "\n",
    "print(s1==s2)"
   ]
  },
  {
   "cell_type": "code",
   "execution_count": 216,
   "id": "5a58f4b5-e1e0-43a1-822b-de2dfc259b2c",
   "metadata": {},
   "outputs": [
    {
     "name": "stdout",
     "output_type": "stream",
     "text": [
      "0     9\n",
      "1     7\n",
      "2     7\n",
      "3     8\n",
      "4    17\n",
      "5     4\n",
      "6     5\n",
      "7    11\n",
      "8     1\n",
      "9     6\n",
      "dtype: int32\n",
      "4\n",
      "8\n"
     ]
    }
   ],
   "source": [
    "# 39. find the index of the first occurrence of the smallest and largest value of a given series.\n",
    "\n",
    "s = pd.Series(np.random.randint(1,20,10))\n",
    "print(s)\n",
    "print(s.idxmax())\n",
    "print(s.idxmin())"
   ]
  },
  {
   "cell_type": "code",
   "execution_count": 7,
   "id": "ca67cd12-0739-434d-8035-83f1672740c6",
   "metadata": {},
   "outputs": [
    {
     "name": "stdout",
     "output_type": "stream",
     "text": [
      "Original DataFrames:\n",
      "      W     X   Y   Z\n",
      "0  68.0  78.0  84  86\n",
      "1  75.0  85.0  94  97\n",
      "2  86.0   NaN  89  96\n",
      "3  80.0  80.0  83  72\n",
      "4   NaN  86.0  86  83\n",
      "      W   X   Y   Z\n",
      "0  78.0  78  84  86\n",
      "1  75.0  85  84  97\n",
      "2  86.0  96  89  96\n",
      "3  80.0  80  83  72\n",
      "4   NaN  76  86  83\n",
      "\n",
      "Check for inequality of the said dataframes:\n",
      "       W      X      Y      Z\n",
      "0   True  False  False  False\n",
      "1  False  False   True  False\n",
      "2  False   True  False  False\n",
      "3  False  False  False  False\n",
      "4   True   True  False  False\n"
     ]
    }
   ],
   "source": [
    "# 40. check inequality over the index axis of a given dataframe and a given series.\n",
    "\n",
    "df1 = pd.DataFrame({'W':[68,75,86,80,None],'X':[78,85,None,80,86], 'Y':[84,94,89,83,86],'Z':[86,97,96,72,83]});\n",
    "df2 = pd.DataFrame({'W':[78,75,86,80,None],'X':[78,85,96,80,76], 'Y':[84,84,89,83,86],'Z':[86,97,96,72,83]});\n",
    "print(\"Original DataFrames:\")\n",
    "print(df1)\n",
    "print(df2)\n",
    "\n",
    "print(df1.ne(df2))\n"
   ]
  },
  {
   "cell_type": "code",
   "execution_count": null,
   "id": "234d82f9-a8df-446c-bf1b-3d1cadaf7cea",
   "metadata": {},
   "outputs": [],
   "source": []
  }
 ],
 "metadata": {
  "kernelspec": {
   "display_name": "Python 3 (ipykernel)",
   "language": "python",
   "name": "python3"
  },
  "language_info": {
   "codemirror_mode": {
    "name": "ipython",
    "version": 3
   },
   "file_extension": ".py",
   "mimetype": "text/x-python",
   "name": "python",
   "nbconvert_exporter": "python",
   "pygments_lexer": "ipython3",
   "version": "3.11.7"
  }
 },
 "nbformat": 4,
 "nbformat_minor": 5
}
